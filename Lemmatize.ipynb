{
 "cells": [
  {
   "cell_type": "code",
   "execution_count": 1,
   "id": "b737b1ae-eb42-49f8-b5cc-af92519da5b1",
   "metadata": {},
   "outputs": [],
   "source": [
    "import nltk\n",
    "from nltk.stem import WordNetLemmatizer\n",
    "from nltk.corpus import stopwords"
   ]
  },
  {
   "cell_type": "code",
   "execution_count": 3,
   "id": "dedd96d8-9264-4fc4-ae43-c7982daba49c",
   "metadata": {},
   "outputs": [],
   "source": [
    "paragraph=\"In the heart of a bustling city, where the cacophony of honking cars and the chatter of pedestrians create a symphony of urban life, there lies a hidden gem—a small, unassuming park. This park, often overlooked by the hurried passersby, is a sanctuary of tranquility amidst the chaos. Tall, ancient trees stand as silent sentinels, their leaves whispering secrets to the wind. The air is filled with the sweet fragrance of blooming flowers, a stark contrast to the exhaust fumes that dominate the streets outside. A cobblestone path meanders through the park, inviting visitors to take a leisurely stroll and escape the relentless pace of city life. Benches, strategically placed under the shade of the trees, offer a place for weary souls to rest and rejuvenate. On any given day, you might find an elderly couple sitting side by side, reminiscing about the days gone by, or a young artist sketching the vibrant scenery. Children, with their boundless energy, run and play, their laughter echoing like a melody. In one corner of the park, a small pond glistens under the sunlight, its surface occasionally disturbed by the gentle ripple of a fish or the splash of a playful duck. The park is a microcosm of life, a place where time seems to slow down, allowing people to reconnect with nature and with themselves. It serves as a reminder that even in the midst of a concrete jungle, pockets of serenity can be found, offering solace and a moment of peace. As the sun sets, casting a golden hue over the landscape, the park transforms into a haven of calm, a perfect end to a day in the city.\""
   ]
  },
  {
   "cell_type": "code",
   "execution_count": 5,
   "id": "b59e719c-e683-4b2b-b76d-9938e06557f3",
   "metadata": {},
   "outputs": [],
   "source": [
    "sentences=nltk.sent_tokenize(paragraph)\n",
    "lemmatize=WordNetLemmatizer()"
   ]
  },
  {
   "cell_type": "code",
   "execution_count": 7,
   "id": "e1412dd8-1827-47d2-88f0-f40a1098e880",
   "metadata": {},
   "outputs": [],
   "source": [
    "for i in range(len(sentences)):\n",
    "    words=nltk.word_tokenize(sentences[i])\n",
    "    words=[lemmatize.lemmatize(word) for word in words if word not in set(stopwords.words('english'))]\n",
    "    sentences[i]=' '.join(words)"
   ]
  },
  {
   "cell_type": "code",
   "execution_count": 9,
   "id": "5cc8323c-24d3-407a-997b-7cab0c7de5f0",
   "metadata": {},
   "outputs": [
    {
     "name": "stdout",
     "output_type": "stream",
     "text": [
      "In heart bustling city , cacophony honking car chatter pedestrian create symphony urban life , lie hidden gem—a small , unassuming park .\n",
      "This park , often overlooked hurried passersby , sanctuary tranquility amidst chaos .\n",
      "Tall , ancient tree stand silent sentinel , leaf whispering secret wind .\n",
      "The air filled sweet fragrance blooming flower , stark contrast exhaust fume dominate street outside .\n",
      "A cobblestone path meander park , inviting visitor take leisurely stroll escape relentless pace city life .\n",
      "Benches , strategically placed shade tree , offer place weary soul rest rejuvenate .\n",
      "On given day , might find elderly couple sitting side side , reminiscing day gone , young artist sketching vibrant scenery .\n",
      "Children , boundless energy , run play , laughter echoing like melody .\n",
      "In one corner park , small pond glisten sunlight , surface occasionally disturbed gentle ripple fish splash playful duck .\n",
      "The park microcosm life , place time seems slow , allowing people reconnect nature .\n",
      "It serf reminder even midst concrete jungle , pocket serenity found , offering solace moment peace .\n",
      "As sun set , casting golden hue landscape , park transforms calm , perfect end day city .\n"
     ]
    }
   ],
   "source": [
    "for i in range(len(sentences)):\n",
    "    print(sentences[i])"
   ]
  }
 ],
 "metadata": {
  "kernelspec": {
   "display_name": "Python 3 (ipykernel)",
   "language": "python",
   "name": "python3"
  },
  "language_info": {
   "codemirror_mode": {
    "name": "ipython",
    "version": 3
   },
   "file_extension": ".py",
   "mimetype": "text/x-python",
   "name": "python",
   "nbconvert_exporter": "python",
   "pygments_lexer": "ipython3",
   "version": "3.12.4"
  }
 },
 "nbformat": 4,
 "nbformat_minor": 5
}

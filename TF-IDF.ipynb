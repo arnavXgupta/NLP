{
 "cells": [
  {
   "cell_type": "code",
   "execution_count": 3,
   "id": "9d74195e-3e13-40f6-a2b7-41a33e6adaa6",
   "metadata": {},
   "outputs": [],
   "source": [
    "import nltk\n",
    "\n",
    "paragraph=\"In the heart of a bustling city, where the cacophony of honking cars and the chatter of pedestrians create a symphony of urban life, there lies a hidden gem—a small, unassuming park. This park, often overlooked by the hurried passersby, is a sanctuary of tranquility amidst the chaos. Tall, ancient trees stand as silent sentinels, their leaves whispering secrets to the wind. The air is filled with the sweet fragrance of blooming flowers, a stark contrast to the exhaust fumes that dominate the streets outside. A cobblestone path meanders through the park, inviting visitors to take a leisurely stroll and escape the relentless pace of city life. Benches, strategically placed under the shade of the trees, offer a place for weary souls to rest and rejuvenate. On any given day, you might find an elderly couple sitting side by side, reminiscing about the days gone by, or a young artist sketching the vibrant scenery. Children, with their boundless energy, run and play, their laughter echoing like a melody. In one corner of the park, a small pond glistens under the sunlight, its surface occasionally disturbed by the gentle ripple of a fish or the splash of a playful duck. The park is a microcosm of life, a place where time seems to slow down, allowing people to reconnect with nature and with themselves. It serves as a reminder that even in the midst of a concrete jungle, pockets of serenity can be found, offering solace and a moment of peace. As the sun sets, casting a golden hue over the landscape, the park transforms into a haven of calm, a perfect end to a day in the city.\"\n",
    "\n",
    "import re\n",
    "from nltk.corpus import stopwords\n",
    "from nltk.stem.porter import PorterStemmer\n",
    "from nltk.stem import WordNetLemmatizer\n",
    "\n",
    "#cleaning\n",
    "ps=PorterStemmer()\n",
    "wordnet=WordNetLemmatizer()\n",
    "sentences=nltk.sent_tokenize(paragraph)\n",
    "corpus=[]\n",
    "\n",
    "for i in range(len(sentences)):\n",
    "    review=re.sub('[^a-zA-Z]', ' ', sentences[i])\n",
    "    review=review.lower()\n",
    "    review=review.split()\n",
    "    review=[wordnet.lemmatize(word) for word in review if not word in set(stopwords.words('english'))]\n",
    "    review=' '.join(review)\n",
    "    corpus.append(review)"
   ]
  },
  {
   "cell_type": "code",
   "execution_count": 7,
   "id": "c186fc4b-96dd-4e88-9f45-495172972800",
   "metadata": {},
   "outputs": [
    {
     "name": "stdout",
     "output_type": "stream",
     "text": [
      "[[0.         0.         0.         ... 0.         0.         0.        ]\n",
      " [0.         0.         0.34673268 ... 0.         0.         0.        ]\n",
      " [0.         0.         0.         ... 0.32046085 0.32046085 0.        ]\n",
      " ...\n",
      " [0.         0.32223002 0.         ... 0.         0.         0.        ]\n",
      " [0.         0.         0.         ... 0.         0.         0.        ]\n",
      " [0.         0.         0.         ... 0.         0.         0.        ]]\n"
     ]
    }
   ],
   "source": [
    "# creating the TF-IDF model\n",
    "from sklearn.feature_extraction.text import TfidfVectorizer\n",
    "tf=TfidfVectorizer()\n",
    "x=tf.fit_transform(corpus).toarray()\n",
    "print(x)"
   ]
  }
 ],
 "metadata": {
  "kernelspec": {
   "display_name": "Python 3 (ipykernel)",
   "language": "python",
   "name": "python3"
  },
  "language_info": {
   "codemirror_mode": {
    "name": "ipython",
    "version": 3
   },
   "file_extension": ".py",
   "mimetype": "text/x-python",
   "name": "python",
   "nbconvert_exporter": "python",
   "pygments_lexer": "ipython3",
   "version": "3.12.4"
  }
 },
 "nbformat": 4,
 "nbformat_minor": 5
}

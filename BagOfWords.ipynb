{
 "cells": [
  {
   "cell_type": "code",
   "execution_count": 1,
   "id": "50a097aa-2942-445e-9b7e-b3f1c7054ff8",
   "metadata": {},
   "outputs": [],
   "source": [
    "import nltk"
   ]
  },
  {
   "cell_type": "code",
   "execution_count": 3,
   "id": "8fd5c728-c817-4fe3-aebc-706ff6aee6e4",
   "metadata": {},
   "outputs": [],
   "source": [
    "paragraph=\"In the heart of a bustling city, where the cacophony of honking cars and the chatter of pedestrians create a symphony of urban life, there lies a hidden gem—a small, unassuming park. This park, often overlooked by the hurried passersby, is a sanctuary of tranquility amidst the chaos. Tall, ancient trees stand as silent sentinels, their leaves whispering secrets to the wind. The air is filled with the sweet fragrance of blooming flowers, a stark contrast to the exhaust fumes that dominate the streets outside. A cobblestone path meanders through the park, inviting visitors to take a leisurely stroll and escape the relentless pace of city life. Benches, strategically placed under the shade of the trees, offer a place for weary souls to rest and rejuvenate. On any given day, you might find an elderly couple sitting side by side, reminiscing about the days gone by, or a young artist sketching the vibrant scenery. Children, with their boundless energy, run and play, their laughter echoing like a melody. In one corner of the park, a small pond glistens under the sunlight, its surface occasionally disturbed by the gentle ripple of a fish or the splash of a playful duck. The park is a microcosm of life, a place where time seems to slow down, allowing people to reconnect with nature and with themselves. It serves as a reminder that even in the midst of a concrete jungle, pockets of serenity can be found, offering solace and a moment of peace. As the sun sets, casting a golden hue over the landscape, the park transforms into a haven of calm, a perfect end to a day in the city.\""
   ]
  },
  {
   "cell_type": "code",
   "execution_count": 5,
   "id": "e3b35767-de03-4d4a-88c9-18e30d08cc68",
   "metadata": {},
   "outputs": [],
   "source": [
    "import re\n",
    "from nltk.corpus import stopwords\n",
    "from nltk.stem.porter import PorterStemmer\n",
    "from nltk.stem import WordNetLemmatizer"
   ]
  },
  {
   "cell_type": "code",
   "execution_count": 9,
   "id": "c419d060-db85-43e5-9d8e-c70529cbdf1a",
   "metadata": {},
   "outputs": [],
   "source": [
    "#cleaning\n",
    "ps=PorterStemmer()\n",
    "wordnet=WordNetLemmatizer()\n",
    "sentences=nltk.sent_tokenize(paragraph)"
   ]
  },
  {
   "cell_type": "code",
   "execution_count": 25,
   "id": "cfcb8e77-22cf-4f9b-9fb0-878b26a57389",
   "metadata": {},
   "outputs": [],
   "source": [
    "corpus=[]\n",
    "for i in range(len(sentences)):\n",
    "    review=re.sub('[^a-zA-Z]', ' ', sentences[i])\n",
    "    review=review.lower()\n",
    "    review=review.split()\n",
    "    review=[wordnet.lemmatize(word) for word in review if not word in set(stopwords.words('english'))]\n",
    "    review=' '.join(review)\n",
    "    corpus.append(review)"
   ]
  },
  {
   "cell_type": "code",
   "execution_count": 27,
   "id": "9739f629-c785-4819-908b-a0dcffcd2fc3",
   "metadata": {},
   "outputs": [
    {
     "name": "stdout",
     "output_type": "stream",
     "text": [
      "['heart bustling city cacophony honking car chatter pedestrian create symphony urban life lie hidden gem small unassuming park', 'park often overlooked hurried passersby sanctuary tranquility amidst chaos', 'tall ancient tree stand silent sentinel leaf whispering secret wind', 'air filled sweet fragrance blooming flower stark contrast exhaust fume dominate street outside', 'cobblestone path meander park inviting visitor take leisurely stroll escape relentless pace city life', 'bench strategically placed shade tree offer place weary soul rest rejuvenate', 'given day might find elderly couple sitting side side reminiscing day gone young artist sketching vibrant scenery', 'child boundless energy run play laughter echoing like melody', 'one corner park small pond glisten sunlight surface occasionally disturbed gentle ripple fish splash playful duck', 'park microcosm life place time seems slow allowing people reconnect nature', 'serf reminder even midst concrete jungle pocket serenity found offering solace moment peace', 'sun set casting golden hue landscape park transforms calm perfect end day city']\n"
     ]
    }
   ],
   "source": [
    "print(corpus)"
   ]
  },
  {
   "cell_type": "code",
   "execution_count": 29,
   "id": "f909a197-ff98-4da7-b0e0-4fbe1e5cd063",
   "metadata": {},
   "outputs": [
    {
     "name": "stdout",
     "output_type": "stream",
     "text": [
      "[[0 0 0 ... 0 0 0]\n",
      " [0 0 1 ... 0 0 0]\n",
      " [0 0 0 ... 1 1 0]\n",
      " ...\n",
      " [0 1 0 ... 0 0 0]\n",
      " [0 0 0 ... 0 0 0]\n",
      " [0 0 0 ... 0 0 0]]\n"
     ]
    }
   ],
   "source": [
    "# creating the BOW model\n",
    "from sklearn.feature_extraction.text import CountVectorizer\n",
    "cv=CountVectorizer()\n",
    "x=cv.fit_transform(corpus).toarray()\n",
    "print(x)"
   ]
  }
 ],
 "metadata": {
  "kernelspec": {
   "display_name": "Python 3 (ipykernel)",
   "language": "python",
   "name": "python3"
  },
  "language_info": {
   "codemirror_mode": {
    "name": "ipython",
    "version": 3
   },
   "file_extension": ".py",
   "mimetype": "text/x-python",
   "name": "python",
   "nbconvert_exporter": "python",
   "pygments_lexer": "ipython3",
   "version": "3.12.4"
  }
 },
 "nbformat": 4,
 "nbformat_minor": 5
}

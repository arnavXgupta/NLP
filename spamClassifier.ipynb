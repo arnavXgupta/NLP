{
 "cells": [
  {
   "cell_type": "code",
   "execution_count": 2,
   "id": "a1b2abd6-b0ab-4aff-940a-dbbfb1f27613",
   "metadata": {},
   "outputs": [],
   "source": [
    "import pandas as pd"
   ]
  },
  {
   "cell_type": "code",
   "execution_count": 14,
   "id": "771121b8-43ef-4b9a-adde-d4a25aed9df3",
   "metadata": {},
   "outputs": [],
   "source": [
    "#importing data\n",
    "messages=pd.read_csv('C:/Users/abc/ML_Lab/SMSSpamCollection.csv', sep='\\t', names=[\"label\", \"message\"])"
   ]
  },
  {
   "cell_type": "code",
   "execution_count": 24,
   "id": "75afcfd6-a424-49cd-b497-f92005d44819",
   "metadata": {},
   "outputs": [],
   "source": [
    "#data cleaning and pre processing \n",
    "import re\n",
    "import nltk\n",
    "from nltk.corpus import stopwords\n",
    "from nltk.stem.porter import PorterStemmer\n",
    "\n",
    "ps=PorterStemmer()\n",
    "corpus=[]\n",
    "\n",
    "for i in range(0, len(messages)):\n",
    "    review=re.sub('[^a-zA-Z]', ' ', messages['message'][i])\n",
    "    review=review.lower()\n",
    "    review=review.split()\n",
    "    review=[ps.stem(word) for word in review if not word in stopwords.words('english')]\n",
    "    review=' '.join(review)\n",
    "    corpus.append(review)"
   ]
  },
  {
   "cell_type": "code",
   "execution_count": 28,
   "id": "d74a10e9-6930-4761-b016-3b2c071bd7f6",
   "metadata": {},
   "outputs": [],
   "source": [
    "#creating a bag of words\n",
    "from sklearn.feature_extraction.text import CountVectorizer\n",
    "cv=CountVectorizer()\n",
    "x=cv.fit_transform(corpus).toarray()"
   ]
  },
  {
   "cell_type": "code",
   "execution_count": 30,
   "id": "df4aa08d-1ade-444b-90fc-ff0deb668df0",
   "metadata": {},
   "outputs": [],
   "source": [
    "y=pd.get_dummies(messages['label'])\n",
    "y=y.iloc[:,1].values"
   ]
  },
  {
   "cell_type": "code",
   "execution_count": 32,
   "id": "1035f3d8-b175-4c2b-bb05-f38816f5f3bf",
   "metadata": {},
   "outputs": [],
   "source": [
    "#Train test split\n",
    "from sklearn.model_selection import train_test_split\n",
    "x_train, x_test, y_train, y_test=train_test_split(x, y, test_size=0.2, random_state=0)"
   ]
  },
  {
   "cell_type": "code",
   "execution_count": 42,
   "id": "b7bd8d16-3a07-4b16-a68e-936642c48585",
   "metadata": {},
   "outputs": [],
   "source": [
    "#Training model using Naive Bayes Classifier\n",
    "from sklearn.naive_bayes import MultinomialNB\n",
    "spam_detect_model=MultinomialNB().fit(x_train, y_train)"
   ]
  },
  {
   "cell_type": "code",
   "execution_count": 44,
   "id": "61a9e09e-19db-4ac9-86ba-e3e8da2c2cd5",
   "metadata": {},
   "outputs": [],
   "source": [
    "y_predict=spam_detect_model.predict(x_test)"
   ]
  },
  {
   "cell_type": "code",
   "execution_count": 48,
   "id": "bb120ea0-8390-47c0-bfac-36847a57cc1b",
   "metadata": {},
   "outputs": [
    {
     "name": "stdout",
     "output_type": "stream",
     "text": [
      "[False  True False ... False  True False]\n"
     ]
    }
   ],
   "source": [
    "print(y_predict)"
   ]
  },
  {
   "cell_type": "code",
   "execution_count": 52,
   "id": "6ab06fb4-b159-4732-9a5e-8e3544b1e128",
   "metadata": {},
   "outputs": [],
   "source": [
    "from sklearn.metrics import confusion_matrix\n",
    "cf=confusion_matrix(y_test, y_predict)"
   ]
  },
  {
   "cell_type": "code",
   "execution_count": 54,
   "id": "50c6cc3e-e302-45f6-bab8-98dc38d33987",
   "metadata": {},
   "outputs": [
    {
     "name": "stdout",
     "output_type": "stream",
     "text": [
      "[[940  15]\n",
      " [  8 152]]\n"
     ]
    }
   ],
   "source": [
    "print(cf)"
   ]
  },
  {
   "cell_type": "code",
   "execution_count": 56,
   "id": "37d69f83-896e-4d84-be8b-10c447e08d7b",
   "metadata": {},
   "outputs": [
    {
     "name": "stdout",
     "output_type": "stream",
     "text": [
      "0.979372197309417\n"
     ]
    }
   ],
   "source": [
    "#to check accuracy score\n",
    "from sklearn.metrics import accuracy_score\n",
    "ac_score=accuracy_score(y_test, y_predict)\n",
    "print(ac_score)"
   ]
  }
 ],
 "metadata": {
  "kernelspec": {
   "display_name": "Python 3 (ipykernel)",
   "language": "python",
   "name": "python3"
  },
  "language_info": {
   "codemirror_mode": {
    "name": "ipython",
    "version": 3
   },
   "file_extension": ".py",
   "mimetype": "text/x-python",
   "name": "python",
   "nbconvert_exporter": "python",
   "pygments_lexer": "ipython3",
   "version": "3.12.4"
  }
 },
 "nbformat": 4,
 "nbformat_minor": 5
}

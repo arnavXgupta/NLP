{
 "cells": [
  {
   "cell_type": "code",
   "execution_count": 1,
   "id": "06cf3994-42c2-4b6b-ab98-6c6c16bab414",
   "metadata": {},
   "outputs": [
    {
     "name": "stdout",
     "output_type": "stream",
     "text": [
      "showing info https://raw.githubusercontent.com/nltk/nltk_data/gh-pages/index.xml\n"
     ]
    },
    {
     "data": {
      "text/plain": [
       "True"
      ]
     },
     "execution_count": 1,
     "metadata": {},
     "output_type": "execute_result"
    }
   ],
   "source": [
    "import nltk\n",
    "nltk.download()"
   ]
  },
  {
   "cell_type": "code",
   "execution_count": 6,
   "id": "1de3c7ea-8004-44ed-8a99-6a17a1c04af0",
   "metadata": {},
   "outputs": [],
   "source": [
    "paragraph=\"In the heart of a bustling city, where the cacophony of honking cars and the chatter of pedestrians create a symphony of urban life, there lies a hidden gem—a small, unassuming park. This park, often overlooked by the hurried passersby, is a sanctuary of tranquility amidst the chaos. Tall, ancient trees stand as silent sentinels, their leaves whispering secrets to the wind. The air is filled with the sweet fragrance of blooming flowers, a stark contrast to the exhaust fumes that dominate the streets outside. A cobblestone path meanders through the park, inviting visitors to take a leisurely stroll and escape the relentless pace of city life. Benches, strategically placed under the shade of the trees, offer a place for weary souls to rest and rejuvenate. On any given day, you might find an elderly couple sitting side by side, reminiscing about the days gone by, or a young artist sketching the vibrant scenery. Children, with their boundless energy, run and play, their laughter echoing like a melody. In one corner of the park, a small pond glistens under the sunlight, its surface occasionally disturbed by the gentle ripple of a fish or the splash of a playful duck. The park is a microcosm of life, a place where time seems to slow down, allowing people to reconnect with nature and with themselves. It serves as a reminder that even in the midst of a concrete jungle, pockets of serenity can be found, offering solace and a moment of peace. As the sun sets, casting a golden hue over the landscape, the park transforms into a haven of calm, a perfect end to a day in the city.\""
   ]
  },
  {
   "cell_type": "code",
   "execution_count": 10,
   "id": "05d750fb-a6f0-4ee8-b055-4ef6d4fdb031",
   "metadata": {},
   "outputs": [],
   "source": [
    "sentences=nltk.sent_tokenize(paragraph)"
   ]
  },
  {
   "cell_type": "code",
   "execution_count": 12,
   "id": "88b89278-6884-4fef-9a79-7e1e0faaf002",
   "metadata": {},
   "outputs": [
    {
     "name": "stdout",
     "output_type": "stream",
     "text": [
      "['In the heart of a bustling city, where the cacophony of honking cars and the chatter of pedestrians create a symphony of urban life, there lies a hidden gem—a small, unassuming park.', 'This park, often overlooked by the hurried passersby, is a sanctuary of tranquility amidst the chaos.', 'Tall, ancient trees stand as silent sentinels, their leaves whispering secrets to the wind.', 'The air is filled with the sweet fragrance of blooming flowers, a stark contrast to the exhaust fumes that dominate the streets outside.', 'A cobblestone path meanders through the park, inviting visitors to take a leisurely stroll and escape the relentless pace of city life.', 'Benches, strategically placed under the shade of the trees, offer a place for weary souls to rest and rejuvenate.', 'On any given day, you might find an elderly couple sitting side by side, reminiscing about the days gone by, or a young artist sketching the vibrant scenery.', 'Children, with their boundless energy, run and play, their laughter echoing like a melody.', 'In one corner of the park, a small pond glistens under the sunlight, its surface occasionally disturbed by the gentle ripple of a fish or the splash of a playful duck.', 'The park is a microcosm of life, a place where time seems to slow down, allowing people to reconnect with nature and with themselves.', 'It serves as a reminder that even in the midst of a concrete jungle, pockets of serenity can be found, offering solace and a moment of peace.', 'As the sun sets, casting a golden hue over the landscape, the park transforms into a haven of calm, a perfect end to a day in the city.']\n"
     ]
    }
   ],
   "source": [
    "print(sentences)"
   ]
  },
  {
   "cell_type": "code",
   "execution_count": 16,
   "id": "aba4747c-52cb-41db-aad0-d2a613cb6e05",
   "metadata": {},
   "outputs": [
    {
     "name": "stdout",
     "output_type": "stream",
     "text": [
      "['In', 'the', 'heart', 'of', 'a', 'bustling', 'city', ',', 'where', 'the', 'cacophony', 'of', 'honking', 'cars', 'and', 'the', 'chatter', 'of', 'pedestrians', 'create', 'a', 'symphony', 'of', 'urban', 'life', ',', 'there', 'lies', 'a', 'hidden', 'gem—a', 'small', ',', 'unassuming', 'park', '.', 'This', 'park', ',', 'often', 'overlooked', 'by', 'the', 'hurried', 'passersby', ',', 'is', 'a', 'sanctuary', 'of', 'tranquility', 'amidst', 'the', 'chaos', '.', 'Tall', ',', 'ancient', 'trees', 'stand', 'as', 'silent', 'sentinels', ',', 'their', 'leaves', 'whispering', 'secrets', 'to', 'the', 'wind', '.', 'The', 'air', 'is', 'filled', 'with', 'the', 'sweet', 'fragrance', 'of', 'blooming', 'flowers', ',', 'a', 'stark', 'contrast', 'to', 'the', 'exhaust', 'fumes', 'that', 'dominate', 'the', 'streets', 'outside', '.', 'A', 'cobblestone', 'path', 'meanders', 'through', 'the', 'park', ',', 'inviting', 'visitors', 'to', 'take', 'a', 'leisurely', 'stroll', 'and', 'escape', 'the', 'relentless', 'pace', 'of', 'city', 'life', '.', 'Benches', ',', 'strategically', 'placed', 'under', 'the', 'shade', 'of', 'the', 'trees', ',', 'offer', 'a', 'place', 'for', 'weary', 'souls', 'to', 'rest', 'and', 'rejuvenate', '.', 'On', 'any', 'given', 'day', ',', 'you', 'might', 'find', 'an', 'elderly', 'couple', 'sitting', 'side', 'by', 'side', ',', 'reminiscing', 'about', 'the', 'days', 'gone', 'by', ',', 'or', 'a', 'young', 'artist', 'sketching', 'the', 'vibrant', 'scenery', '.', 'Children', ',', 'with', 'their', 'boundless', 'energy', ',', 'run', 'and', 'play', ',', 'their', 'laughter', 'echoing', 'like', 'a', 'melody', '.', 'In', 'one', 'corner', 'of', 'the', 'park', ',', 'a', 'small', 'pond', 'glistens', 'under', 'the', 'sunlight', ',', 'its', 'surface', 'occasionally', 'disturbed', 'by', 'the', 'gentle', 'ripple', 'of', 'a', 'fish', 'or', 'the', 'splash', 'of', 'a', 'playful', 'duck', '.', 'The', 'park', 'is', 'a', 'microcosm', 'of', 'life', ',', 'a', 'place', 'where', 'time', 'seems', 'to', 'slow', 'down', ',', 'allowing', 'people', 'to', 'reconnect', 'with', 'nature', 'and', 'with', 'themselves', '.', 'It', 'serves', 'as', 'a', 'reminder', 'that', 'even', 'in', 'the', 'midst', 'of', 'a', 'concrete', 'jungle', ',', 'pockets', 'of', 'serenity', 'can', 'be', 'found', ',', 'offering', 'solace', 'and', 'a', 'moment', 'of', 'peace', '.', 'As', 'the', 'sun', 'sets', ',', 'casting', 'a', 'golden', 'hue', 'over', 'the', 'landscape', ',', 'the', 'park', 'transforms', 'into', 'a', 'haven', 'of', 'calm', ',', 'a', 'perfect', 'end', 'to', 'a', 'day', 'in', 'the', 'city', '.']\n"
     ]
    }
   ],
   "source": [
    "words=nltk.word_tokenize(paragraph)\n",
    "print(words)"
   ]
  }
 ],
 "metadata": {
  "kernelspec": {
   "display_name": "Python 3 (ipykernel)",
   "language": "python",
   "name": "python3"
  },
  "language_info": {
   "codemirror_mode": {
    "name": "ipython",
    "version": 3
   },
   "file_extension": ".py",
   "mimetype": "text/x-python",
   "name": "python",
   "nbconvert_exporter": "python",
   "pygments_lexer": "ipython3",
   "version": "3.12.4"
  }
 },
 "nbformat": 4,
 "nbformat_minor": 5
}

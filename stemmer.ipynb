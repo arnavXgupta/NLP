{
 "cells": [
  {
   "cell_type": "code",
   "execution_count": 3,
   "id": "a49a69ee-50e7-404b-b9e8-b6274c0dcb93",
   "metadata": {},
   "outputs": [],
   "source": [
    "import nltk\n",
    "from nltk.stem import PorterStemmer\n",
    "from nltk.corpus import stopwords"
   ]
  },
  {
   "cell_type": "code",
   "execution_count": 5,
   "id": "8c6aef68-6b73-4c67-a3ef-f4112b3622db",
   "metadata": {},
   "outputs": [],
   "source": [
    "paragraph=\"In the heart of a bustling city, where the cacophony of honking cars and the chatter of pedestrians create a symphony of urban life, there lies a hidden gem—a small, unassuming park. This park, often overlooked by the hurried passersby, is a sanctuary of tranquility amidst the chaos. Tall, ancient trees stand as silent sentinels, their leaves whispering secrets to the wind. The air is filled with the sweet fragrance of blooming flowers, a stark contrast to the exhaust fumes that dominate the streets outside. A cobblestone path meanders through the park, inviting visitors to take a leisurely stroll and escape the relentless pace of city life. Benches, strategically placed under the shade of the trees, offer a place for weary souls to rest and rejuvenate. On any given day, you might find an elderly couple sitting side by side, reminiscing about the days gone by, or a young artist sketching the vibrant scenery. Children, with their boundless energy, run and play, their laughter echoing like a melody. In one corner of the park, a small pond glistens under the sunlight, its surface occasionally disturbed by the gentle ripple of a fish or the splash of a playful duck. The park is a microcosm of life, a place where time seems to slow down, allowing people to reconnect with nature and with themselves. It serves as a reminder that even in the midst of a concrete jungle, pockets of serenity can be found, offering solace and a moment of peace. As the sun sets, casting a golden hue over the landscape, the park transforms into a haven of calm, a perfect end to a day in the city.\""
   ]
  },
  {
   "cell_type": "code",
   "execution_count": 9,
   "id": "5192071e-673c-404f-b39c-f84411eb1dc5",
   "metadata": {},
   "outputs": [],
   "source": [
    "sentences=nltk.sent_tokenize(paragraph)\n",
    "stemmer=PorterStemmer()"
   ]
  },
  {
   "cell_type": "code",
   "execution_count": 11,
   "id": "0f0d66aa-92e9-4357-a32c-736779b2ceaa",
   "metadata": {},
   "outputs": [],
   "source": [
    "for i in range(len(sentences)):\n",
    "    words=nltk.word_tokenize(sentences[i])\n",
    "    words=[stemmer.stem(word) for word in words if word not in set(stopwords.words('english'))]\n",
    "    sentences[i]=' '.join(words)"
   ]
  },
  {
   "cell_type": "code",
   "execution_count": 15,
   "id": "43d7f1b0-e834-47b1-8d8f-6dc520d2d0b2",
   "metadata": {},
   "outputs": [
    {
     "name": "stdout",
     "output_type": "stream",
     "text": [
      "in heart bustl citi , cacophoni honk car chatter pedestrian creat symphoni urban life , lie hidden gem—a small , unassum park .\n",
      "thi park , often overlook hurri passersbi , sanctuari tranquil amidst chao .\n",
      "tall , ancient tree stand silent sentinel , leav whisper secret wind .\n",
      "the air fill sweet fragranc bloom flower , stark contrast exhaust fume domin street outsid .\n",
      "a cobbleston path meander park , invit visitor take leisur stroll escap relentless pace citi life .\n",
      "bench , strateg place shade tree , offer place weari soul rest rejuven .\n",
      "on given day , might find elderli coupl sit side side , reminisc day gone , young artist sketch vibrant sceneri .\n",
      "children , boundless energi , run play , laughter echo like melodi .\n",
      "in one corner park , small pond glisten sunlight , surfac occasion disturb gentl rippl fish splash play duck .\n",
      "the park microcosm life , place time seem slow , allow peopl reconnect natur .\n",
      "it serv remind even midst concret jungl , pocket seren found , offer solac moment peac .\n",
      "as sun set , cast golden hue landscap , park transform calm , perfect end day citi .\n"
     ]
    }
   ],
   "source": [
    "for i in range(len(sentences)):\n",
    "    print(sentences[i])"
   ]
  }
 ],
 "metadata": {
  "kernelspec": {
   "display_name": "Python 3 (ipykernel)",
   "language": "python",
   "name": "python3"
  },
  "language_info": {
   "codemirror_mode": {
    "name": "ipython",
    "version": 3
   },
   "file_extension": ".py",
   "mimetype": "text/x-python",
   "name": "python",
   "nbconvert_exporter": "python",
   "pygments_lexer": "ipython3",
   "version": "3.12.4"
  }
 },
 "nbformat": 4,
 "nbformat_minor": 5
}
